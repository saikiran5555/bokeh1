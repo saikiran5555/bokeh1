{
 "cells": [
  {
   "cell_type": "markdown",
   "id": "5ba013df",
   "metadata": {},
   "source": [
    "You can customize the appearance of a Bokeh plot, including the axes, title, and legend, using various properties and methods provided by Bokeh. Here's how you can customize these elements:\n",
    "\n",
    "Title and Plot Properties:\n",
    "\n",
    "To set the title of the plot, use the title property of the figure object.\n",
    "To customize the background color of the plot, use the background_fill_color property.\n",
    "To set the background color of the plot border, use the border_fill_color property.\n",
    "To change the plot's border line color, use the border_color property.\n",
    "Example:"
   ]
  },
  {
   "cell_type": "code",
   "execution_count": null,
   "id": "f305aa4d",
   "metadata": {},
   "outputs": [],
   "source": [
    "from bokeh.plotting import figure, show\n",
    "\n",
    "p = figure(title=\"Customized Bokeh Plot\", background_fill_color=\"lightgray\", border_fill_color=\"white\", border_color=\"black\")\n"
   ]
  },
  {
   "cell_type": "markdown",
   "id": "458db3fd",
   "metadata": {},
   "source": [
    "Axes Customization:\n",
    "\n",
    "To customize the appearance of the x-axis and y-axis, you can access the xaxis and yaxis attributes of the figure object.\n",
    "You can set axis labels using the axis_label property for the x and y axes.\n",
    "You can change the font size, color, and other style properties of axis labels using the axis_label_text_font_size, axis_label_text_color, and similar properties.\n",
    "To customize tick labels, you can access the major_label_text_font_size, major_label_text_color, and other properties.\n",
    "Example:"
   ]
  },
  {
   "cell_type": "code",
   "execution_count": null,
   "id": "30650130",
   "metadata": {},
   "outputs": [],
   "source": [
    "p.xaxis.axis_label = \"X-axis Label\"\n",
    "p.xaxis.axis_label_text_font_size = \"14pt\"\n",
    "p.xaxis.axis_label_text_color = \"blue\"\n",
    "\n",
    "p.yaxis.axis_label = \"Y-axis Label\"\n",
    "p.yaxis.axis_label_text_font_size = \"14pt\"\n",
    "p.yaxis.axis_label_text_color = \"green\"\n"
   ]
  },
  {
   "cell_type": "markdown",
   "id": "d562667c",
   "metadata": {},
   "source": [
    "Legend Customization:\n",
    "\n",
    "To display a legend for your plot, set a legend_label when adding glyphs to the plot.\n",
    "You can customize the legend title using the legend.title property.\n",
    "You can set the location of the legend using the legend.location property (e.g., \"top_right\", \"bottom_left\", etc.).\n",
    "You can change the font size, color, and other style properties of the legend labels using the legend.label_text_font_size, legend.label_text_color, and similar properties.\n",
    "Example:"
   ]
  },
  {
   "cell_type": "code",
   "execution_count": null,
   "id": "b4ba0b82",
   "metadata": {},
   "outputs": [],
   "source": [
    "p.circle(x_data, y_data, size=10, color=\"blue\", alpha=0.5, legend_label=\"Data Points\")\n",
    "\n",
    "p.legend.title = \"Legend Title\"\n",
    "p.legend.location = \"top_left\"\n",
    "p.legend.label_text_font_size = \"12pt\"\n",
    "p.legend.label_text_color = \"purple\"\n"
   ]
  },
  {
   "cell_type": "markdown",
   "id": "a33820a8",
   "metadata": {},
   "source": [
    "Plot Size and Dimensions:\n",
    "\n",
    "You can specify the size of the plot using the plot_width and plot_height parameters when creating the figure object.\n",
    "Example:"
   ]
  },
  {
   "cell_type": "code",
   "execution_count": null,
   "id": "f31249e8",
   "metadata": {},
   "outputs": [],
   "source": [
    "p = figure(plot_width=800, plot_height=600)\n"
   ]
  }
 ],
 "metadata": {
  "kernelspec": {
   "display_name": "Python 3 (ipykernel)",
   "language": "python",
   "name": "python3"
  },
  "language_info": {
   "codemirror_mode": {
    "name": "ipython",
    "version": 3
   },
   "file_extension": ".py",
   "mimetype": "text/x-python",
   "name": "python",
   "nbconvert_exporter": "python",
   "pygments_lexer": "ipython3",
   "version": "3.10.9"
  }
 },
 "nbformat": 4,
 "nbformat_minor": 5
}
