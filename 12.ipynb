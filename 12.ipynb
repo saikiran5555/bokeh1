{
 "cells": [
  {
   "cell_type": "markdown",
   "id": "74b47739",
   "metadata": {},
   "source": [
    "Glyphs in Bokeh are geometric shapes or markers that represent data points on a plot. Bokeh provides a wide range of built-in glyphs, including circles, squares, triangles, lines, bars, and more, that you can use to visually represent your data. Glyphs are added to a Bokeh plot to display data points, lines, or shapes in various styles and configurations.\n",
    "\n",
    "Here's how you can add glyphs to a Bokeh plot with an example:"
   ]
  },
  {
   "cell_type": "code",
   "execution_count": null,
   "id": "3750e8fa",
   "metadata": {},
   "outputs": [],
   "source": [
    "from bokeh.plotting import figure, show\n",
    "\n",
    "# Create a Bokeh figure\n",
    "p = figure(plot_width=400, plot_height=400, title=\"Glyphs Example\")\n",
    "\n",
    "# Sample data\n",
    "x_data = [1, 2, 3, 4, 5]\n",
    "y_data = [2, 4, 1, 3, 5]\n",
    "\n",
    "# Add circle glyphs to represent data points\n",
    "p.circle(x_data, y_data, size=10, color=\"blue\", alpha=0.5, legend_label=\"Circles\")\n",
    "\n",
    "# Add square glyphs to represent data points\n",
    "p.square(x_data, y_data, size=10, color=\"red\", alpha=0.5, legend_label=\"Squares\")\n",
    "\n",
    "# Add line glyphs to connect data points\n",
    "p.line(x_data, y_data, line_width=2, color=\"green\", legend_label=\"Line\")\n",
    "\n",
    "# Customize the plot\n",
    "p.xaxis.axis_label = \"X-axis\"\n",
    "p.yaxis.axis_label = \"Y-axis\"\n",
    "p.legend.title = \"Glyphs\"\n",
    "\n",
    "# Show the plot\n",
    "show(p)\n"
   ]
  },
  {
   "cell_type": "markdown",
   "id": "2e363c60",
   "metadata": {},
   "source": [
    "In this example:\n",
    "\n",
    "We create a Bokeh figure named p with specific attributes such as the plot dimensions and title.\n",
    "\n",
    "We define sample data in x_data and y_data.\n",
    "\n",
    "We add circle glyphs to the plot using the p.circle() method. We specify the x and y coordinates of the data points, the size of the circles, their color, transparency (alpha), and provide a legend label.\n",
    "\n",
    "We add square glyphs to the plot using the p.square() method, similar to the circle glyphs.\n",
    "\n",
    "We add a line glyph using the p.line() method to connect the data points. We specify the line width, color, and provide a legend label.\n",
    "\n",
    "We customize the plot further by adding axis labels and setting the legend title.\n",
    "\n",
    "Finally, we display the plot using show(p).\n",
    "\n",
    "This example demonstrates how to add various glyphs (circles, squares, and lines) to a Bokeh plot to represent and visualize data. You can choose the appropriate glyph type and customize its appearance to best convey your data's information and relationships."
   ]
  }
 ],
 "metadata": {
  "kernelspec": {
   "display_name": "Python 3 (ipykernel)",
   "language": "python",
   "name": "python3"
  },
  "language_info": {
   "codemirror_mode": {
    "name": "ipython",
    "version": 3
   },
   "file_extension": ".py",
   "mimetype": "text/x-python",
   "name": "python",
   "nbconvert_exporter": "python",
   "pygments_lexer": "ipython3",
   "version": "3.10.9"
  }
 },
 "nbformat": 4,
 "nbformat_minor": 5
}
