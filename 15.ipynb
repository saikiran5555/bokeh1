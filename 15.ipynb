{
 "cells": [
  {
   "cell_type": "markdown",
   "id": "b6dd9bb7",
   "metadata": {},
   "source": [
    "To embed a Bokeh plot into a web page or dashboard using Flask or Django, you need to follow these general steps:\n",
    "\n",
    "Step 1: Create a Bokeh Plot:\n",
    "First, create your Bokeh plot as you normally would using Bokeh's plotting functions and customize it as needed.\n",
    "\n",
    "Step 2: Export the Bokeh Plot as HTML:\n",
    "Bokeh provides a function called bokeh.embed.file_html that allows you to export a Bokeh plot as HTML. You will pass your Bokeh plot and any additional customization options to this function.\n",
    "\n",
    "Here's an example of how to export a Bokeh plot as HTML:"
   ]
  },
  {
   "cell_type": "code",
   "execution_count": null,
   "id": "8f0a6e95",
   "metadata": {},
   "outputs": [],
   "source": [
    "from bokeh.plotting import figure\n",
    "from bokeh.embed import file_html\n",
    "from bokeh.resources import CDN\n",
    "\n",
    "# Create a Bokeh plot\n",
    "plot = figure()\n",
    "plot.circle([1, 2, 3], [4, 5, 6])\n",
    "\n",
    "# Export the Bokeh plot as HTML\n",
    "html = file_html(plot, CDN, \"My Bokeh Plot\")\n"
   ]
  },
  {
   "cell_type": "markdown",
   "id": "7a2b541f",
   "metadata": {},
   "source": [
    "Step 3: Integrate with Flask:\n",
    "\n",
    "For Flask, you can use the render_template function to render an HTML template that includes your Bokeh plot. First, create an HTML template file (e.g., plot_template.html) that will contain the Bokeh plot code:"
   ]
  },
  {
   "cell_type": "code",
   "execution_count": null,
   "id": "61b1230d",
   "metadata": {},
   "outputs": [],
   "source": [
    "<!DOCTYPE html>\n",
    "<html>\n",
    "<head>\n",
    "    <title>{{ plot_title }}</title>\n",
    "    {{ bokeh_css | safe }}\n",
    "</head>\n",
    "<body>\n",
    "    <h1>{{ plot_title }}</h1>\n",
    "    {{ bokeh_script | safe }}\n",
    "</body>\n",
    "</html>\n"
   ]
  },
  {
   "cell_type": "code",
   "execution_count": null,
   "id": "dc1169b9",
   "metadata": {},
   "outputs": [],
   "source": [
    "\n",
    "Then, in your Flask application, you can render this template and pass the html variable containing the Bokeh plot code:"
   ]
  },
  {
   "cell_type": "code",
   "execution_count": null,
   "id": "daac6535",
   "metadata": {},
   "outputs": [],
   "source": [
    "from flask import Flask, render_template\n",
    "\n",
    "app = Flask(__name__)\n",
    "\n",
    "@app.route('/')\n",
    "def index():\n",
    "    plot_title = \"My Bokeh Plot\"\n",
    "    return render_template('plot_template.html', plot_title=plot_title, bokeh_script=html, bokeh_css=CDN.css_files)\n",
    "\n",
    "if __name__ == '__main__':\n",
    "    app.run()\n"
   ]
  }
 ],
 "metadata": {
  "kernelspec": {
   "display_name": "Python 3 (ipykernel)",
   "language": "python",
   "name": "python3"
  },
  "language_info": {
   "codemirror_mode": {
    "name": "ipython",
    "version": 3
   },
   "file_extension": ".py",
   "mimetype": "text/x-python",
   "name": "python",
   "nbconvert_exporter": "python",
   "pygments_lexer": "ipython3",
   "version": "3.10.9"
  }
 },
 "nbformat": 4,
 "nbformat_minor": 5
}
