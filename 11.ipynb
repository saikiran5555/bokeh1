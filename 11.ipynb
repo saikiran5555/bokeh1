{
 "cells": [
  {
   "cell_type": "markdown",
   "id": "80f47bd8",
   "metadata": {},
   "source": [
    "Install Bokeh:\n",
    "First, make sure you have Bokeh installed. You can install it using pip:"
   ]
  },
  {
   "cell_type": "code",
   "execution_count": null,
   "id": "430e1747",
   "metadata": {},
   "outputs": [],
   "source": [
    "pip install bokeh\n"
   ]
  },
  {
   "cell_type": "markdown",
   "id": "63d45991",
   "metadata": {},
   "source": [
    "Import the Necessary Libraries:\n",
    "In your Python script or Jupyter Notebook, import the required libraries, including bokeh.plotting and any other data manipulation libraries you may need, such as NumPy and Pandas."
   ]
  },
  {
   "cell_type": "code",
   "execution_count": null,
   "id": "0a005a2d",
   "metadata": {},
   "outputs": [],
   "source": [
    "from bokeh.plotting import figure, show\n",
    "import numpy as np\n"
   ]
  },
  {
   "cell_type": "markdown",
   "id": "6bcc2bd2",
   "metadata": {},
   "source": [
    "Create a Bokeh Figure:\n",
    "Create a Bokeh figure using the figure() function. You can specify various attributes of the plot, such as its title, axis labels, and dimensions."
   ]
  },
  {
   "cell_type": "code",
   "execution_count": null,
   "id": "dac92687",
   "metadata": {},
   "outputs": [],
   "source": [
    "p = figure(title=\"My Bokeh Plot\", x_axis_label=\"X-axis\", y_axis_label=\"Y-axis\", plot_width=400, plot_height=300)\n"
   ]
  },
  {
   "cell_type": "markdown",
   "id": "cd72e5c5",
   "metadata": {},
   "source": [
    "Add Data to the Plot:\n",
    "Add data to your Bokeh plot using various glyphs like circles, lines, rectangles, etc. You can use NumPy arrays or Pandas DataFrames to represent your data."
   ]
  },
  {
   "cell_type": "code",
   "execution_count": null,
   "id": "c5f53125",
   "metadata": {},
   "outputs": [],
   "source": [
    "x_data = np.linspace(0, 10, 100)  # Example x-axis data\n",
    "y_data = np.sin(x_data)           # Example y-axis data\n",
    "\n",
    "p.line(x_data, y_data, line_width=2, legend_label=\"Sin(x)\")\n"
   ]
  },
  {
   "cell_type": "markdown",
   "id": "1bf8065b",
   "metadata": {},
   "source": [
    "Customize the Plot:\n",
    "Customize the plot further by adjusting attributes like colors, line styles, markers, and legends."
   ]
  },
  {
   "cell_type": "code",
   "execution_count": null,
   "id": "ed435f25",
   "metadata": {},
   "outputs": [],
   "source": [
    "p.circle(x_data, y_data, size=8, color=\"red\", legend_label=\"Data Points\")\n"
   ]
  },
  {
   "cell_type": "markdown",
   "id": "6605d5bc",
   "metadata": {},
   "source": [
    "Show or Save the Plot:\n",
    "You can display the plot in a Jupyter Notebook using show(p), or you can save it to an HTML file using output_file() and save() functions."
   ]
  },
  {
   "cell_type": "code",
   "execution_count": null,
   "id": "ce19e521",
   "metadata": {},
   "outputs": [],
   "source": [
    "show(p)  # Display the plot in a Jupyter Notebook\n"
   ]
  },
  {
   "cell_type": "code",
   "execution_count": null,
   "id": "9d600669",
   "metadata": {},
   "outputs": [],
   "source": [
    "from bokeh.io import output_file, save\n",
    "output_file(\"my_bokeh_plot.html\")\n",
    "save(p)  # Save the plot to an HTML file\n"
   ]
  },
  {
   "cell_type": "markdown",
   "id": "147e2f05",
   "metadata": {},
   "source": [
    "Interactivity (Optional):\n",
    "Bokeh also allows you to add interactive features to your plots, such as tooltips, hover effects, and interactive widgets. You can explore the Bokeh documentation for more advanced customization and interactivity options."
   ]
  }
 ],
 "metadata": {
  "kernelspec": {
   "display_name": "Python 3 (ipykernel)",
   "language": "python",
   "name": "python3"
  },
  "language_info": {
   "codemirror_mode": {
    "name": "ipython",
    "version": 3
   },
   "file_extension": ".py",
   "mimetype": "text/x-python",
   "name": "python",
   "nbconvert_exporter": "python",
   "pygments_lexer": "ipython3",
   "version": "3.10.9"
  }
 },
 "nbformat": 4,
 "nbformat_minor": 5
}
