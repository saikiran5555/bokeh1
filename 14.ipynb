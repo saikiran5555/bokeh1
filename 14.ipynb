{
 "cells": [
  {
   "cell_type": "markdown",
   "id": "0eb35664",
   "metadata": {},
   "source": [
    "A Bokeh server is a component of the Bokeh library that allows you to create interactive, web-based data applications with real-time updates. With the Bokeh server, you can build dynamic and interactive data dashboards, applications, and visualizations that can respond to user interactions or external data changes. Bokeh server applications run as standalone Python processes or can be deployed to a web server.\n",
    "\n",
    "Here are some key features and concepts related to Bokeh server:\n",
    "\n",
    "Reactive Programming: Bokeh server applications are built using a reactive programming model. You define how the app responds to various events, such as user interactions (e.g., button clicks, slider changes) and external data updates. When these events occur, the app updates and re-renders the corresponding parts of the plot or application.\n",
    "\n",
    "Session: A Bokeh server application runs within a session. A session is a connection between a user's web browser and the Bokeh server application. Multiple users can have their own independent sessions with the same application.\n",
    "\n",
    "Layout and Widgets: Bokeh provides various layout options (e.g., rows, columns, tabs) to organize plots and widgets (e.g., buttons, sliders, dropdowns) within your application. Widgets allow users to interact with the plots and trigger events.\n",
    "\n",
    "Server Callbacks: You can define server-side Python callbacks that respond to widget interactions and data updates. These callbacks are executed on the server and can modify the data or layout of the plot in real time.\n",
    "\n",
    "Updating Data: Bokeh server applications can update data sources used in the plots. This enables dynamic data visualization and real-time updates based on user interactions or external data sources.\n",
    "\n",
    "Here's a simplified example of how to create a Bokeh server application that updates a plot in real time based on a slider interaction:"
   ]
  },
  {
   "cell_type": "code",
   "execution_count": null,
   "id": "7852c792",
   "metadata": {},
   "outputs": [],
   "source": [
    "from bokeh.io import curdoc\n",
    "from bokeh.layouts import column\n",
    "from bokeh.models import ColumnDataSource, Slider\n",
    "from bokeh.plotting import figure\n",
    "\n",
    "# Create initial data source\n",
    "source = ColumnDataSource(data={'x': [], 'y': []})\n",
    "\n",
    "# Create a plot\n",
    "plot = figure()\n",
    "plot.circle('x', 'y', source=source)\n",
    "\n",
    "# Create a slider widget\n",
    "slider = Slider(start=0, end=10, value=5, step=0.1, title=\"Slider\")\n",
    "\n",
    "# Define a callback function\n",
    "def update_data(attr, old, new):\n",
    "    x = list(range(int(new) + 1))\n",
    "    y = [xi ** 2 for xi in x]\n",
    "    source.data = {'x': x, 'y': y}\n",
    "\n",
    "# Attach the callback to the slider\n",
    "slider.on_change('value', update_data)\n",
    "\n",
    "# Create the layout\n",
    "layout = column(slider, plot)\n",
    "\n",
    "# Add the layout to the current document\n",
    "curdoc().add_root(layout)\n"
   ]
  },
  {
   "cell_type": "markdown",
   "id": "1cb60bf5",
   "metadata": {},
   "source": [
    "In this example, a Bokeh server application is created with a slider that updates a plot of x vs. y in real time. The update_data function is called when the slider value changes, and it updates the data source used by the plot. The curdoc().add_root(layout) line adds the layout to the current document, making it available as a Bokeh server application.\n",
    "\n",
    "To run a Bokeh server application, you typically use the bokeh serve command followed by the Python script containing your application. This starts the Bokeh server, which can be accessed in a web browser, allowing users to interact with the application in real time.\n",
    "\n",
    "Bokeh server applications can be used to build sophisticated data dashboards, live data monitoring systems, and interactive visualizations that respond to user input and changing data conditions.\n",
    "\n",
    "\n",
    "\n",
    "\n"
   ]
  }
 ],
 "metadata": {
  "kernelspec": {
   "display_name": "Python 3 (ipykernel)",
   "language": "python",
   "name": "python3"
  },
  "language_info": {
   "codemirror_mode": {
    "name": "ipython",
    "version": 3
   },
   "file_extension": ".py",
   "mimetype": "text/x-python",
   "name": "python",
   "nbconvert_exporter": "python",
   "pygments_lexer": "ipython3",
   "version": "3.10.9"
  }
 },
 "nbformat": 4,
 "nbformat_minor": 5
}
